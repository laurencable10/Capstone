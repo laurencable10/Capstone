{
 "cells": [
  {
   "cell_type": "markdown",
   "metadata": {},
   "source": [
    "Steering away from the 3 ideas proposed in my lightning talk, I have decided to go in a new direction for my Capstone Project following the recommendations and insight from our data scientist guest speakers this week to do something industry specific. \n",
    "\n",
    "Thousands of articles are published daily detailing emerging stock market trends and pitching investment ideas. Are stock analysts and industry experts really better at picking stocks that will outperform the market? Additonally, are there any key word indicators used in stock pitches that have predictive power in selecting stocks that will outperform the market?\n",
    "\n",
    "I will be implementing 4 major learning topics covered in the course:\n",
    "    1. Web Scraping\n",
    "    2. Exploratory Data Analysis \n",
    "    2. Natural Language Processing\n",
    "    3. Classification Methods   \n",
    "    \n",
    "Web Scraping- \n",
    "Utilizing Beautiful Soup with ann adapted version of the Reddit homepage web scraper I developed for Project 3, I will perform 2-3 weekly scrapes from a website called Seeking Alpha - a platform for stock analysts to post research reports, analysis pieces, and investment ideas and strategies. Content is contributed by investors and industry experts rather than by the sell-side like the majority of equity research platforms. I will be extracting 5 key pieces of informationn from each pitch:\n",
    "    1. Long ideas (stocks to buy) and short ideas (stocks to sell)\n",
    "    2. Title of and link to research article\n",
    "    3. Text from research article \n",
    "    4. Time research article was posted\n",
    "    5. Recommended tickers (stock names)\n",
    "    \n",
    "Exploratory Data Analysis- \n",
    "    - Performance of long vs. short ideas (under different holding periods) // Box plot?\n",
    "    - Performance of most recommened long vs. short ideas // Bar plot\n",
    "    - Tickers categorized into groups- Compare total # of posts // Bar plot \n",
    "    - Most popular long tickers (top 10 or 20) // Bar plot\n",
    "    - Most popular short tickers (top 10 or 20) // Bar plot\n",
    "    - Stock returnds over time // Line graph\n",
    "        - Top long, top short, S&P500, NASDAQ, DOWJONES\n",
    "        - How do long/short ideas compare to each other & stock market indexes\n",
    "\n",
    "\n",
    "Natural Language Processing-\n",
    "Utilizing CountVectorizer as well as implementing tokenizer, lemmatizer, stemmer, and regular expressions from the nltk library I will transform non-numerical data into sparse dataframes that can be analyzed. Specifically, I plan on using GridSearchCV to extract feature importances. \n",
    "\n",
    "Classification Methods-\n",
    "Driven by the results of NLP I intend on building a classification model with a binary predictor for whether or not stock proces outperformed the market. Specific models to evaluate: Logistic Regression, GLMs, SVMs, Random Forests, ExtraTrees, and Neural Nets. Additionall methodically will be provided pending the results of said evaluations. "
   ]
  }
 ],
 "metadata": {
  "kernelspec": {
   "display_name": "Python [default]",
   "language": "python",
   "name": "python3"
  },
  "language_info": {
   "codemirror_mode": {
    "name": "ipython",
    "version": 3
   },
   "file_extension": ".py",
   "mimetype": "text/x-python",
   "name": "python",
   "nbconvert_exporter": "python",
   "pygments_lexer": "ipython3",
   "version": "3.6.3"
  }
 },
 "nbformat": 4,
 "nbformat_minor": 2
}
