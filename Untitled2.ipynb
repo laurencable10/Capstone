{
 "cells": [
  {
   "cell_type": "markdown",
   "metadata": {},
   "source": [
    "<img src=\"seekingalpha.png\" style=\"float: left; margin: 20px; height: 55px\">\n",
    "\n",
    "# Seeking Alpha \n",
    "\n",
    "_Not your average stock price predicting_\n",
    "\n",
    "---"
   ]
  },
  {
   "cell_type": "markdown",
   "metadata": {},
   "source": [
    "In these notebooks, I shall conduct an interesting take on predicting stock prices that utilzes the natural language of online analyses rather than numerical data to make predictions. More specifically, an unsupervised learning technique called topic modelling will be utilized to uncover abstract themes or \"topics\" based on the underlying documents and words in a corpus of text. I will introduce a standard topic modelling technique known as Latent Dirichlet Allocation (LDA), as well as Natural Language Processing basics such as Tokenization, Stemming and vectorization of the raw text which should also hopefully come in handy when making predictions with learning models.\n",
    "\n",
    "The outline of this notebook is as follows:"
   ]
  }
 ],
 "metadata": {
  "kernelspec": {
   "display_name": "Python [default]",
   "language": "python",
   "name": "python3"
  },
  "language_info": {
   "codemirror_mode": {
    "name": "ipython",
    "version": 3
   },
   "file_extension": ".py",
   "mimetype": "text/x-python",
   "name": "python",
   "nbconvert_exporter": "python",
   "pygments_lexer": "ipython3",
   "version": "3.6.3"
  }
 },
 "nbformat": 4,
 "nbformat_minor": 2
}
