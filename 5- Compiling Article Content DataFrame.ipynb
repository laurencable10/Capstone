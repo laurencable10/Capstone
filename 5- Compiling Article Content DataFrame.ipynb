{
 "cells": [
  {
   "cell_type": "code",
   "execution_count": null,
   "metadata": {
    "collapsed": true
   },
   "outputs": [],
   "source": []
  },
  {
   "cell_type": "markdown",
   "metadata": {},
   "source": [
    "### Notebook Summary:\n",
    "   - This notebook contains the code to merge historical stock data from Yahoo finance with Long and Short Ideas from Seeking Alpha\n",
    "   - converting to datetime- both \n",
    "   - ideas- length of ticker, frequency of ticker, editors picks\n",
    "   - offsets for different holding periods "
   ]
  },
  {
   "cell_type": "markdown",
   "metadata": {},
   "source": [
    "### Importing Necessary Libraries"
   ]
  },
  {
   "cell_type": "code",
   "execution_count": 11,
   "metadata": {
    "collapsed": true
   },
   "outputs": [],
   "source": [
    "import requests\n",
    "import time\n",
    "from bs4 import BeautifulSoup\n",
    "import pandas as pd"
   ]
  },
  {
   "cell_type": "code",
   "execution_count": 12,
   "metadata": {},
   "outputs": [],
   "source": [
    "final_dataframe= pd.read_csv('final_dataframe.csv')"
   ]
  },
  {
   "cell_type": "code",
   "execution_count": 13,
   "metadata": {},
   "outputs": [
    {
     "data": {
      "text/html": [
       "<div>\n",
       "<style>\n",
       "    .dataframe thead tr:only-child th {\n",
       "        text-align: right;\n",
       "    }\n",
       "\n",
       "    .dataframe thead th {\n",
       "        text-align: left;\n",
       "    }\n",
       "\n",
       "    .dataframe tbody tr th {\n",
       "        vertical-align: top;\n",
       "    }\n",
       "</style>\n",
       "<table border=\"1\" class=\"dataframe\">\n",
       "  <thead>\n",
       "    <tr style=\"text-align: right;\">\n",
       "      <th></th>\n",
       "      <th>Authors</th>\n",
       "      <th>Link</th>\n",
       "      <th>Title</th>\n",
       "      <th>Strategy</th>\n",
       "      <th>Tickers</th>\n",
       "      <th>Date</th>\n",
       "      <th>Opening Price</th>\n",
       "      <th>Week1</th>\n",
       "      <th>Week2</th>\n",
       "      <th>Week3</th>\n",
       "      <th>...</th>\n",
       "      <th>Week44</th>\n",
       "      <th>Week45</th>\n",
       "      <th>Week46</th>\n",
       "      <th>Week47</th>\n",
       "      <th>Week48</th>\n",
       "      <th>Week49</th>\n",
       "      <th>Week50</th>\n",
       "      <th>Week51</th>\n",
       "      <th>Week52</th>\n",
       "      <th>Performance</th>\n",
       "    </tr>\n",
       "  </thead>\n",
       "  <tbody>\n",
       "    <tr>\n",
       "      <th>0</th>\n",
       "      <td>Mark Hibben</td>\n",
       "      <td>/article/4034776-apple-oddly-satisfying-touchs...</td>\n",
       "      <td>Apple: The 'Oddly Satisfying' Touchscreen Mac</td>\n",
       "      <td>Long</td>\n",
       "      <td>AAPL</td>\n",
       "      <td>2017-01-03</td>\n",
       "      <td>116.150002</td>\n",
       "      <td>118.989998</td>\n",
       "      <td>120.000000</td>\n",
       "      <td>120.080002</td>\n",
       "      <td>...</td>\n",
       "      <td>174.250000</td>\n",
       "      <td>173.970001</td>\n",
       "      <td>169.979996</td>\n",
       "      <td>174.089996</td>\n",
       "      <td>169.800003</td>\n",
       "      <td>172.669998</td>\n",
       "      <td>176.419998</td>\n",
       "      <td>170.570007</td>\n",
       "      <td>116.150002</td>\n",
       "      <td>0</td>\n",
       "    </tr>\n",
       "    <tr>\n",
       "      <th>13</th>\n",
       "      <td>Michael Blair</td>\n",
       "      <td>/article/4037110-weak-demand-may-impact-apple-...</td>\n",
       "      <td>Weak Demand May Impact Apple Stock</td>\n",
       "      <td>Short</td>\n",
       "      <td>AAPL</td>\n",
       "      <td>2017-01-17</td>\n",
       "      <td>120.000000</td>\n",
       "      <td>120.080002</td>\n",
       "      <td>121.629997</td>\n",
       "      <td>130.289993</td>\n",
       "      <td>...</td>\n",
       "      <td>169.979996</td>\n",
       "      <td>174.089996</td>\n",
       "      <td>169.800003</td>\n",
       "      <td>172.669998</td>\n",
       "      <td>176.419998</td>\n",
       "      <td>170.570007</td>\n",
       "      <td>116.150002</td>\n",
       "      <td>118.989998</td>\n",
       "      <td>120.000000</td>\n",
       "      <td>0</td>\n",
       "    </tr>\n",
       "    <tr>\n",
       "      <th>282</th>\n",
       "      <td>Alex Cho</td>\n",
       "      <td>/article/4034871-amd-vs-intel-nvidia</td>\n",
       "      <td>AMD Vs. Intel And Nvidia</td>\n",
       "      <td>Long</td>\n",
       "      <td>AMD</td>\n",
       "      <td>2017-01-03</td>\n",
       "      <td>11.430000</td>\n",
       "      <td>11.490000</td>\n",
       "      <td>9.820000</td>\n",
       "      <td>9.910000</td>\n",
       "      <td>...</td>\n",
       "      <td>11.930000</td>\n",
       "      <td>11.090000</td>\n",
       "      <td>11.340000</td>\n",
       "      <td>11.550000</td>\n",
       "      <td>10.030000</td>\n",
       "      <td>10.160000</td>\n",
       "      <td>10.980000</td>\n",
       "      <td>10.460000</td>\n",
       "      <td>11.430000</td>\n",
       "      <td>0</td>\n",
       "    </tr>\n",
       "  </tbody>\n",
       "</table>\n",
       "<p>3 rows × 60 columns</p>\n",
       "</div>"
      ],
      "text/plain": [
       "            Authors                                               Link  \\\n",
       "0       Mark Hibben  /article/4034776-apple-oddly-satisfying-touchs...   \n",
       "13    Michael Blair  /article/4037110-weak-demand-may-impact-apple-...   \n",
       "282        Alex Cho               /article/4034871-amd-vs-intel-nvidia   \n",
       "\n",
       "                                             Title Strategy Tickers  \\\n",
       "0    Apple: The 'Oddly Satisfying' Touchscreen Mac     Long    AAPL   \n",
       "13              Weak Demand May Impact Apple Stock    Short    AAPL   \n",
       "282                       AMD Vs. Intel And Nvidia     Long     AMD   \n",
       "\n",
       "           Date  Opening Price       Week1       Week2       Week3  \\\n",
       "0    2017-01-03     116.150002  118.989998  120.000000  120.080002   \n",
       "13   2017-01-17     120.000000  120.080002  121.629997  130.289993   \n",
       "282  2017-01-03      11.430000   11.490000    9.820000    9.910000   \n",
       "\n",
       "        ...           Week44      Week45      Week46      Week47      Week48  \\\n",
       "0       ...       174.250000  173.970001  169.979996  174.089996  169.800003   \n",
       "13      ...       169.979996  174.089996  169.800003  172.669998  176.419998   \n",
       "282     ...        11.930000   11.090000   11.340000   11.550000   10.030000   \n",
       "\n",
       "         Week49      Week50      Week51      Week52  Performance  \n",
       "0    172.669998  176.419998  170.570007  116.150002            0  \n",
       "13   170.570007  116.150002  118.989998  120.000000            0  \n",
       "282   10.160000   10.980000   10.460000   11.430000            0  \n",
       "\n",
       "[3 rows x 60 columns]"
      ]
     },
     "execution_count": 13,
     "metadata": {},
     "output_type": "execute_result"
    }
   ],
   "source": [
    "long = final_dataframe[final_dataframe['Strategy']=='Long']\n",
    "short = final_dataframe[final_dataframe['Strategy']=='Short']\n",
    "\n",
    "long_tickers = long.drop_duplicates('Tickers')\n",
    "short_tickers = short.drop_duplicates('Tickers')\n",
    "\n",
    "long_links = long_tickers['Link'].tolist()\n",
    "short_links = short_tickers['Link'].tolist()\n",
    "\n",
    "language_links = long_links + short_links\n",
    "\n",
    "language_dataframe = final_dataframe[final_dataframe['Link'].isin(language_links)]\n",
    "language_dataframe.head(3)"
   ]
  },
  {
   "cell_type": "code",
   "execution_count": 10,
   "metadata": {},
   "outputs": [],
   "source": [
    "language_dataframe['Performance'] = language_dataframe['Week12'] - language_dataframe['Opening Price']\n",
    "\n",
    "language_dataframe['Performance'] = language_dataframe['Performance'].apply(lambda x: 0 if x > 0.0 else 1)"
   ]
  },
  {
   "cell_type": "code",
   "execution_count": 256,
   "metadata": {
    "scrolled": false
   },
   "outputs": [
    {
     "name": "stdout",
     "output_type": "stream",
     "text": [
      "200\n",
      "/article/4118215-exxon-mobil-strong-quarter-buoyed-higher-oil-prices\n",
      "200\n",
      "/article/4118192-exxon-mobil-oil-2-year-highs-stock-will-rise\n",
      "200\n",
      "/article/4118030-exxon-mobil-fully-valued-buy-tranches\n",
      "200\n",
      "/article/4121563-exxon-mobil-rating-update\n",
      "200\n",
      "/article/4127778-exxon-places-fiscal-sustainability-ahead-buybacks\n",
      "200\n",
      "/article/4133554-exxon-time-enjoy-acceleration\n",
      "200\n",
      "/article/4134317-2-things-will-drive-exxon-mobils-cash-flow-earnings-2018\n",
      "200\n",
      "/article/4134200-exxon-mobil-ready-break\n"
     ]
    }
   ],
   "source": [
    "# Empty list to append results to\n",
    "request_list = [] \n",
    "# List of links to iterate through\n",
    "\n",
    "for link in links[2980:2988]: # Iterating through list of links to gather article text\n",
    "    response = requests.get('https://seekingalpha.com'+(link), headers = {'user-agent': '-6787994961--capstone-'})\n",
    "    # 'str(id_list)' is article link being scraped\n",
    "    # Header included for polite scraping- way for website owners to contact you \n",
    "    time.sleep(2)\n",
    "    print(response.status_code)\n",
    "    html = response.text\n",
    "    soup = BeautifulSoup(html,'lxml')\n",
    "    request_list.append(soup) # Append results to empty list  \n",
    "    print(link)"
   ]
  },
  {
   "cell_type": "markdown",
   "metadata": {},
   "source": [
    "## Engineer function to extract data"
   ]
  },
  {
   "cell_type": "code",
   "execution_count": 257,
   "metadata": {
    "collapsed": true
   },
   "outputs": [],
   "source": [
    "# Function to extract article text\n",
    "def extract_article_text(request_list): \n",
    "    articles = []   # Empty list to append article text to \n",
    "    for i in request_list:  # Iterate through scraped results \n",
    "        for each in i.find_all('div',{'id':'a-body'}): # Call proper HTML tags/classes \n",
    "            articles.append(each.text)  # Append text data to empty list\n",
    "    return(articles)\n",
    "\n",
    "# Set function as variable\n",
    "fetch_articles = extract_article_text(request_list)"
   ]
  },
  {
   "cell_type": "markdown",
   "metadata": {},
   "source": [
    "## Combine results into DataFrames and Export"
   ]
  },
  {
   "cell_type": "code",
   "execution_count": 258,
   "metadata": {
    "collapsed": true
   },
   "outputs": [],
   "source": [
    "# Create dataframes with fetched results as column (total- 30 dataframes)\n",
    "text = pd.DataFrame(fetch_articles)"
   ]
  },
  {
   "cell_type": "code",
   "execution_count": 259,
   "metadata": {
    "collapsed": true
   },
   "outputs": [],
   "source": [
    "text.to_csv('content176.csv')"
   ]
  }
 ],
 "metadata": {
  "kernelspec": {
   "display_name": "Python [default]",
   "language": "python",
   "name": "python3"
  },
  "language_info": {
   "codemirror_mode": {
    "name": "ipython",
    "version": 3
   },
   "file_extension": ".py",
   "mimetype": "text/x-python",
   "name": "python",
   "nbconvert_exporter": "python",
   "pygments_lexer": "ipython3",
   "version": "3.6.3"
  }
 },
 "nbformat": 4,
 "nbformat_minor": 2
}
