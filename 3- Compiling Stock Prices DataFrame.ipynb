{
 "cells": [
  {
   "cell_type": "markdown",
   "metadata": {},
   "source": [
    "<img src=\"yahoofinance.png\" style=\"float: left; margin: 20px; height: 55px\">\n",
    "\n",
    "# Notebook 3- Gathering Stock Prices \n",
    "\n",
    "### _for \"Long Portfolio\" and \"Short Portfolio\" compiled in Notebook 2_ \n",
    "\n",
    "---\n",
    "### Notebook Summary\n",
    "> - Historical data downloaded directly from Yahoo Finance\n",
    "> - Stocks tickers selected from Long and Short Portfolios\n",
    "> - Pricing downloaded on a weekly basis \n",
    "\n",
    "- Leveraging the Pandas library to compile 'Stocks' Dataframe that will be exported as a csv file to be used in subsequent notebooks.\n",
    "\n",
    "---\n",
    "### _Importing Necessary Libraries_\n",
    "---"
   ]
  },
  {
   "cell_type": "code",
   "execution_count": 3,
   "metadata": {
    "collapsed": true
   },
   "outputs": [],
   "source": [
    "import pandas as pd"
   ]
  },
  {
   "cell_type": "markdown",
   "metadata": {},
   "source": [
    "### _Importing \"Long Portfolio\" and \"Short Portfolio\" Dataframes_\n",
    "----"
   ]
  },
  {
   "cell_type": "code",
   "execution_count": 4,
   "metadata": {
    "collapsed": true
   },
   "outputs": [],
   "source": [
    "# Compiled via EDA in Notebook 2\n",
    "\n",
    "long_portfolio = pd.read_csv('long_portfolio.csv')\n",
    "short_portfolio = pd.read_csv('short_portfolio.csv')"
   ]
  },
  {
   "cell_type": "markdown",
   "metadata": {},
   "source": [
    "---\n",
    "### Gathering Historical Stock Data\n",
    "---"
   ]
  },
  {
   "cell_type": "code",
   "execution_count": 5,
   "metadata": {
    "collapsed": true
   },
   "outputs": [],
   "source": [
    "# Compiling list of 'Tickers' to download \n",
    "\n",
    "long_ideas = long_portfolio['Tickers'].tolist()\n",
    "short_ideas = short_portfolio['Tickers'].tolist()\n",
    "stocks_to_download = long_ideas + short_ideas"
   ]
  },
  {
   "cell_type": "code",
   "execution_count": 10,
   "metadata": {
    "scrolled": true
   },
   "outputs": [
    {
     "name": "stdout",
     "output_type": "stream",
     "text": [
      "Downloading historical stock data for the following tickers:\n",
      "=====================================================================================================================\n",
      "['AAPL', 'TSLA', 'AMD', 'AMZN', 'FB', 'BAC', 'GE', 'MU', 'GILD', 'NVDA', 'CHK', 'DIS', 'VRX', 'MSFT', 'F', 'XOM', 'SBUX', 'GM', 'M', 'WMT', 'GNC', 'TGT', 'INTC', 'IBM', 'CMG', 'TSLA', 'DRYS', 'SNAP', 'BB', 'NFLX', 'NVDA', 'AAPL', 'AMD', 'AMZN', 'HLF', 'SHLD', 'TEVA', 'VRX', 'EFX', 'TWTR', 'MNK', 'F', 'CMG', 'MNKD', 'QCOM', 'SDRL', 'MCD', 'W', 'P', 'CSCO']\n"
     ]
    }
   ],
   "source": [
    "print('Downloading historical stock data for the following tickers:')\n",
    "print(\"=\"*117)\n",
    "print(stocks_to_download)\n"
   ]
  },
  {
   "cell_type": "code",
   "execution_count": 30,
   "metadata": {},
   "outputs": [],
   "source": [
    "# Importing csv files saved to local computer \n",
    "\n",
    "AAPL = pd.read_csv('AAPL.csv')\n",
    "AMZN = pd.read_csv('AMZN.csv')\n",
    "BAC= pd.read_csv('BAC.csv')\n",
    "F = pd.read_csv('F.csv')\n",
    "FB = pd.read_csv('FB.csv')\n",
    "GE = pd.read_csv('GE.csv')\n",
    "GILD = pd.read_csv('GILD.csv')\n",
    "IBM = pd.read_csv('IBM.csv')\n",
    "MSFT = pd.read_csv('MSFT.csv')\n",
    "TSLA = pd.read_csv('TSLA.csv')\n"
   ]
  },
  {
   "cell_type": "markdown",
   "metadata": {},
   "source": [
    "### Compiling \"Stocks\" DataFrame\n",
    "---"
   ]
  },
  {
   "cell_type": "code",
   "execution_count": 31,
   "metadata": {
    "collapsed": true
   },
   "outputs": [],
   "source": [
    "# Adding identifying column\n",
    "\n",
    "AAPL['Tickers'] = 'AAPL'\n",
    "AMZN['Tickers'] = 'AMZN'\n",
    "BAC['Tickers'] = 'BAC'\n",
    "F['Tickers'] = 'F'\n",
    "FB['Tickers'] = 'FB'\n",
    "GE['Tickers'] = 'GE'\n",
    "GILD['Tickers'] = 'GILD'\n",
    "IBM['Tickers'] = 'IBM'\n",
    "MSFT['Tickers'] = 'MSFT'\n",
    "TSLA['Tickers'] = 'TSLA'"
   ]
  },
  {
   "cell_type": "code",
   "execution_count": null,
   "metadata": {
    "collapsed": true
   },
   "outputs": [],
   "source": [
    "HLF['Tickers'] = 'HLF'\n",
    "BAC['Tickers'] = 'BAC'\n",
    "BB['Tickers'] = 'BB'\n",
    "CHK['Tickers'] = 'CHK'\n",
    "CMG['Tickers'] = 'CMG'\n",
    "M['Tickers'] = 'M'\n",
    "MU['Tickers'] = 'MU'\n",
    "NFLX['Tickers'] = 'NFLX'\n",
    "NVDA['Tickers'] = 'NVDA'\n",
    "QCOM['Tickers'] = 'QCOM'\n",
    "SBUX['Tickers'] = 'SBUX'\n",
    "SHLD['Tickers'] = 'SHLD'\n",
    "AMD['Tickers'] = 'AMD'\n",
    "BB['Tickers'] = 'BB'\n",
    "CHK['Tickers'] = 'CHK'\n",
    "CMG['Tickers'] = 'CMG'\n",
    "DIS['Tickers'] = 'DIS'\n",
    "DRYS['Tickers'] = 'DRYS\n",
    "VRX['Tickers'] = 'VRX'\n",
    "TWTR['Tickers'] = 'TWTR'\n",
    "XOM['Tickers'] = 'XOM'\n",
    "GM['Tickers'] = 'GM'\n"
   ]
  },
  {
   "cell_type": "code",
   "execution_count": 32,
   "metadata": {
    "collapsed": true
   },
   "outputs": [],
   "source": [
    "# Merging all 'Ticker' dataframe together \n",
    "\n",
    "AAPL['Tickers'] = 'AAPL'\n",
    "AMZN['Tickers'] = 'AMZN'\n",
    "BAC['Tickers'] = 'BAC'\n",
    "F['Tickers'] = 'F'\n",
    "FB['Tickers'] = 'FB'\n",
    "GE['Tickers'] = 'GE'\n",
    "GILD['Tickers'] = 'GILD'\n",
    "IBM['Tickers'] = 'IBM'\n",
    "MSFT['Tickers'] = 'MSFT'\n",
    "TSLA['Tickers'] = 'TSLA'\n",
    "\n",
    "stocks = pd.concat([AAPL, AMZN, BAC, F, FB, GE, GILD, IBM, MSFT, TSLA])"
   ]
  },
  {
   "cell_type": "code",
   "execution_count": 33,
   "metadata": {
    "collapsed": true
   },
   "outputs": [],
   "source": [
    "# Drop unneeded columna- only concerned with closing price\n",
    "\n",
    "stocks.drop(['Open','High','Low','Adj Close','Volume'],axis=1,inplace=True)"
   ]
  },
  {
   "cell_type": "markdown",
   "metadata": {},
   "source": [
    "----\n",
    "## Saving Results - Exporting \"Stocks\" DataFrame as CSV \n",
    "----"
   ]
  },
  {
   "cell_type": "code",
   "execution_count": 34,
   "metadata": {
    "collapsed": true
   },
   "outputs": [],
   "source": [
    "# Exporting as csv\n",
    "\n",
    "stocks.to_csv('stocks.csv',index=False)"
   ]
  },
  {
   "cell_type": "markdown",
   "metadata": {},
   "source": [
    "## Onwards!\n",
    "\n",
    "## Please proceed to Notebook 4 :) "
   ]
  }
 ],
 "metadata": {
  "kernelspec": {
   "display_name": "Python [default]",
   "language": "python",
   "name": "python3"
  },
  "language_info": {
   "codemirror_mode": {
    "name": "ipython",
    "version": 3
   },
   "file_extension": ".py",
   "mimetype": "text/x-python",
   "name": "python",
   "nbconvert_exporter": "python",
   "pygments_lexer": "ipython3",
   "version": "3.6.3"
  }
 },
 "nbformat": 4,
 "nbformat_minor": 2
}
