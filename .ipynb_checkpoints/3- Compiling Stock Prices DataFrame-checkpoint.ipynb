{
 "cells": [
  {
   "cell_type": "markdown",
   "metadata": {},
   "source": [
    "<img src=\"yahoofinance.png\" style=\"float: left; margin: 20px; height: 55px\">\n",
    "\n",
    "# Notebook 3- Compiling Stock Prices DataFrame\n",
    "\n",
    "### _Gathering Historical Data from Yahoo Finance_\n",
    "\n",
    "---\n",
    "### Notebook Summary\n",
    " \n",
    "- Gathering historical stock data csvs from Yahoo Finance for the stock tickers comprising the \"Final Ideas\" DataFrame\n",
    "- Compiling \"Stocks\" DataFrame by merging all csvs and engineering an identifier column Merging all Engineering a column for stock ticker \n",
    "- Saving and exporting as csv file for accessibility throughout the remainder of the notebooks \n",
    "---"
   ]
  },
  {
   "cell_type": "markdown",
   "metadata": {},
   "source": [
    "#### Importing Necessary Libraries & \"Final Ideas\" DataFrame"
   ]
  },
  {
   "cell_type": "code",
   "execution_count": 19,
   "metadata": {
    "collapsed": true
   },
   "outputs": [],
   "source": [
    "import pandas as pd"
   ]
  },
  {
   "cell_type": "code",
   "execution_count": 20,
   "metadata": {
    "collapsed": true
   },
   "outputs": [],
   "source": [
    "final_ideas = pd.read_csv('final_dataframe.csv') # Compiled via EDA in Notebook 2 "
   ]
  },
  {
   "cell_type": "markdown",
   "metadata": {},
   "source": [
    "---\n",
    "### Gathering Historical Stock Data\n",
    "---"
   ]
  },
  {
   "cell_type": "code",
   "execution_count": 21,
   "metadata": {
    "collapsed": true
   },
   "outputs": [],
   "source": [
    "# Compile list of tickers to download  \n",
    "\n",
    "top_stocks = final_ideas['Tickers'].value_counts().head(40).index.tolist()"
   ]
  },
  {
   "cell_type": "code",
   "execution_count": 28,
   "metadata": {
    "scrolled": true
   },
   "outputs": [
    {
     "name": "stdout",
     "output_type": "stream",
     "text": [
      "Downloading historical stock data for the following tickers:\n",
      "==========================================================================================\n",
      "['TSLA', 'DRYS', 'SNAP', 'BB', 'NFLX', 'NVDA', 'AAPL', 'HLF', 'AMD', 'AMZN', 'SHLD', 'TEVA', 'VRX', 'TWTR', 'EFX', 'MNK', 'F', 'CMG', 'QCOM', 'MNKD', 'AAPL', 'TSLA', 'AMD', 'AMZN', 'FB', 'BAC', 'GE', 'GILD', 'MU', 'NVDA', 'CHK', 'VRX', 'DIS', 'MSFT', 'F', 'XOM', 'SBUX', 'GM', 'M', 'IBM']\n",
      "==========================================================================================\n"
     ]
    }
   ],
   "source": [
    "print('Downloading historical stock data for the following tickers:')\n",
    "print(\"=\"*90)\n",
    "print(top_stocks)\n",
    "print(\"=\"*90)"
   ]
  },
  {
   "cell_type": "code",
   "execution_count": 289,
   "metadata": {
    "collapsed": true
   },
   "outputs": [],
   "source": [
    "# Importing csv files saved to local computer \n",
    "\n",
    "AAPL = pd.read_csv('AAPL.csv')\n",
    "AMD = pd.read_csv('AMD.csv')\n",
    "AMZN = pd.read_csv('AMZN.csv')\n",
    "BAC= pd.read_csv('BAC.csv')\n",
    "BB = pd.read_csv('BB.csv')\n",
    "CHK = pd.read_csv('CHK.csv')\n",
    "CMG = pd.read_csv('CMG.csv')\n",
    "DIS = pd.read_csv('DIS.csv')\n",
    "DRYS = pd.read_csv('DRYS.csv')\n",
    "F = pd.read_csv('F.csv')\n",
    "FB = pd.read_csv('FB.csv')\n",
    "GE = pd.read_csv('GE.csv')\n",
    "GILD = pd.read_csv('GILD.csv')\n",
    "GM = pd.read_csv('GM.csv')\n",
    "HLF = pd.read_csv('HLF.csv')\n",
    "IBM = pd.read_csv('IBM.csv')\n",
    "M = pd.read_csv('M.csv')\n",
    "MSFT = pd.read_csv('MSFT.csv')\n",
    "MU = pd.read_csv('MU.csv')\n",
    "NFLX = pd.read_csv('NFLX.csv')\n",
    "NVDA = pd.read_csv('NVDA.csv')\n",
    "QCOM = pd.read_csv('QCOM.csv')\n",
    "SHLD= pd.read_csv('SHLD.csv')\n",
    "SNAP = pd.read_csv('SNAP.csv')\n",
    "SBUX= pd.read_csv('SBUX.csv')\n",
    "TSLA = pd.read_csv('TSLA.csv')\n",
    "TWTR = pd.read_csv('TWTR.csv')\n",
    "VRX= pd.read_csv('VRX.csv')\n",
    "XOM = pd.read_csv('XOM.csv')"
   ]
  },
  {
   "cell_type": "markdown",
   "metadata": {},
   "source": [
    "---\n",
    "### Compiling \"Stocks\" DataFrame\n",
    "---"
   ]
  },
  {
   "cell_type": "code",
   "execution_count": 290,
   "metadata": {
    "collapsed": true
   },
   "outputs": [],
   "source": [
    "# Adding identifying column\n",
    "\n",
    "AAPL['Tickers'] = 'AAPL'\n",
    "AMD['Tickers'] = 'AMD'\n",
    "AMZN['Tickers'] = 'AMZN'\n",
    "BAC['Tickers'] = 'BAC'\n",
    "BB['Tickers'] = 'BB'\n",
    "CHK['Tickers'] = 'CHK'\n",
    "CMG['Tickers'] = 'CMG'\n",
    "DIS['Tickers'] = 'DIS'\n",
    "DRYS['Tickers'] = 'DRYS'\n",
    "F['Tickers'] = 'F'\n",
    "FB['Tickers'] = 'FB'\n",
    "GE['Tickers'] = 'GE'\n",
    "GILD['Tickers'] = 'GILD'\n",
    "GM['Tickers'] = 'GM'\n",
    "HLF['Tickers'] = 'HLF'\n",
    "IBM['Tickers'] = 'IBM'\n",
    "M['Tickers'] = 'M'\n",
    "MSFT['Tickers'] ='MSFT'\n",
    "MU['Tickers'] = 'MU'\n",
    "NFLX['Tickers'] = 'NFLX'\n",
    "NVDA['Tickers'] = 'NVDA'\n",
    "QCOM['Tickers'] = 'QCOM'\n",
    "SBUX['Tickers'] = 'SBUX'\n",
    "SHLD['Tickers'] = 'SHLD'\n",
    "TSLA['Tickers'] = 'TSLA'\n",
    "VRX['Tickers'] = 'VRX'\n",
    "TWTR['Tickers'] = 'TWTR'\n",
    "XOM['Tickers'] = 'XOM'"
   ]
  },
  {
   "cell_type": "code",
   "execution_count": 292,
   "metadata": {
    "collapsed": true
   },
   "outputs": [],
   "source": [
    "# Merging all stock data together \n",
    "\n",
    "stocks = pd.concat([AAPL, AMD, AMZN, BAC, BB, CHK, CMG, DIS, DRYS, F, FB, GE, GILD, GM, HLF, IBM, M, \n",
    "                    MSFT, MU, NFLX, NVDA, QCOM, SBUX, SHLD, TSLA, TWTR, VRX, XOM])"
   ]
  },
  {
   "cell_type": "code",
   "execution_count": 293,
   "metadata": {
    "collapsed": true
   },
   "outputs": [],
   "source": [
    "# Drop unneeded columna- only concerned with closing price\n",
    "\n",
    "stocks.drop(['Open','High','Low','Adj Close','Volume'],axis=1,inplace=True)"
   ]
  },
  {
   "cell_type": "markdown",
   "metadata": {},
   "source": [
    "---\n",
    "## Saving Results \n",
    "---"
   ]
  },
  {
   "cell_type": "code",
   "execution_count": 23,
   "metadata": {},
   "outputs": [],
   "source": [
    "# Exporting as csv\n",
    "\n",
    "stocks.to_csv('stocks.csv',index=False)"
   ]
  },
  {
   "cell_type": "markdown",
   "metadata": {},
   "source": [
    "## Onwards!\n",
    "\n",
    "---\n",
    "\n",
    "## Please proceed to Notebook 4 :) "
   ]
  }
 ],
 "metadata": {
  "kernelspec": {
   "display_name": "Python [default]",
   "language": "python",
   "name": "python3"
  },
  "language_info": {
   "codemirror_mode": {
    "name": "ipython",
    "version": 3
   },
   "file_extension": ".py",
   "mimetype": "text/x-python",
   "name": "python",
   "nbconvert_exporter": "python",
   "pygments_lexer": "ipython3",
   "version": "3.6.3"
  }
 },
 "nbformat": 4,
 "nbformat_minor": 2
}
