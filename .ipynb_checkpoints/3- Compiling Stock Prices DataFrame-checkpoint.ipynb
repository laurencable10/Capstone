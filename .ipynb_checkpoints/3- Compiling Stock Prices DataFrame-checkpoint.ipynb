{
 "cells": [
  {
   "cell_type": "markdown",
   "metadata": {},
   "source": [
    "<img src=\"yahoofinance.png\" style=\"float: left; margin: 20px; height: 55px\">\n",
    "\n",
    "# Notebook 3- Gathering Stock Prices from Yahoo Finance \n",
    "\n",
    "### _Historical Data for \"Final Ideas\" compiled in Notebook 2 \n",
    "\n",
    "---\n",
    "### Notebook Summary\n",
    "> - Leveraging the Pandas library to download data from Yahoo Finance for the 50 most frequently referenced tickers identified in the and merge data from Yahoo finance for \n",
    "> - Leveraging the Pandas library to compile 'Final Ideas' Dataframe that that will be exported as a csv file to be used inn subsequent notebooks.\n",
    "---"
   ]
  },
  {
   "cell_type": "markdown",
   "metadata": {},
   "source": [
    "### _Importing Necessary Libraries_\n",
    "---"
   ]
  },
  {
   "cell_type": "code",
   "execution_count": 24,
   "metadata": {
    "collapsed": true
   },
   "outputs": [],
   "source": [
    "import pandas as pd"
   ]
  },
  {
   "cell_type": "markdown",
   "metadata": {},
   "source": [
    "### _Importing \"Final Ideas\" Dataframes_\n",
    "----"
   ]
  },
  {
   "cell_type": "code",
   "execution_count": 25,
   "metadata": {
    "collapsed": true
   },
   "outputs": [],
   "source": [
    "# Compiled via EDA in Notebook 2\n",
    "\n",
    "final_ideas = pd.read_csv('FINAL_IDEAS.csv') \n",
    "long_portfolio = pd.read_csv('LONG_PORTFOLIO.csv')\n",
    "short_portfolio = pd.read_csv('SHORT_PORTFOLIO.csv')"
   ]
  },
  {
   "cell_type": "markdown",
   "metadata": {},
   "source": [
    "---\n",
    "### Gathering Historical Stock Data\n",
    "---"
   ]
  },
  {
   "cell_type": "code",
   "execution_count": 27,
   "metadata": {
    "collapsed": true
   },
   "outputs": [],
   "source": [
    "# Compiling list of 'Tickers' to download - Long and Short Portfolios \n",
    "\n",
    "long_ideas = long_portfolio['Tickers'].tolist()\n",
    "short_ideas = short_portfolio['Tickers'].tolist()\n",
    "stocks_to_download = long_ideas + short_ideas"
   ]
  },
  {
   "cell_type": "code",
   "execution_count": 28,
   "metadata": {
    "scrolled": true
   },
   "outputs": [
    {
     "name": "stdout",
     "output_type": "stream",
     "text": [
      "Downloading historical stock data for the following tickers:\n",
      "==========================================================================================\n",
      "['AAPL', 'INTC', 'AMZN', 'TSLA', 'MSFT', 'F', 'FB', 'GILD', 'BABA', 'GE', 'BAC', 'IBM', 'BA', 'DIS', 'TWTR', 'BB', 'MU', 'WMT', 'CHK', 'GM', 'GPRO', 'FCX', 'SBUX', 'CMG', 'RIG', 'TSLA', 'NFLX', 'HLF', 'LL', 'AAPL', 'VRX', 'CMG', 'QCOM', 'TWTR', 'BB', 'DDD', 'AMZN', 'SHAK', 'MCD', 'WFT', 'SUNEQ', 'FCX', 'FIT', 'IBM', 'W', 'S', 'P', 'YGE', 'FB', 'SHLD']\n",
      "==========================================================================================\n"
     ]
    }
   ],
   "source": [
    "print('Downloading historical stock data for the following tickers:')\n",
    "print(\"=\"*90)\n",
    "print(stocks_to_download)\n",
    "print(\"=\"*90)"
   ]
  },
  {
   "cell_type": "code",
   "execution_count": 289,
   "metadata": {
    "collapsed": true
   },
   "outputs": [],
   "source": [
    "# Importing csv files saved to local computer \n",
    "\n",
    "AAPL = pd.read_csv('AAPL.csv')\n",
    "AMD = pd.read_csv('AMD.csv')\n",
    "AMZN = pd.read_csv('AMZN.csv')\n",
    "BAC= pd.read_csv('BAC.csv')\n",
    "BB = pd.read_csv('BB.csv')\n",
    "CHK = pd.read_csv('CHK.csv')\n",
    "CMG = pd.read_csv('CMG.csv')\n",
    "DIS = pd.read_csv('DIS.csv')\n",
    "DRYS = pd.read_csv('DRYS.csv')\n",
    "F = pd.read_csv('F.csv')\n",
    "FB = pd.read_csv('FB.csv')\n",
    "GE = pd.read_csv('GE.csv')\n",
    "GILD = pd.read_csv('GILD.csv')\n",
    "GM = pd.read_csv('GM.csv')\n",
    "HLF = pd.read_csv('HLF.csv')\n",
    "IBM = pd.read_csv('IBM.csv')\n",
    "M = pd.read_csv('M.csv')\n",
    "MSFT = pd.read_csv('MSFT.csv')\n",
    "MU = pd.read_csv('MU.csv')\n",
    "NFLX = pd.read_csv('NFLX.csv')\n",
    "NVDA = pd.read_csv('NVDA.csv')\n",
    "QCOM = pd.read_csv('QCOM.csv')\n",
    "SHLD= pd.read_csv('SHLD.csv')\n",
    "SNAP = pd.read_csv('SNAP.csv')\n",
    "SBUX= pd.read_csv('SBUX.csv')\n",
    "TSLA = pd.read_csv('TSLA.csv')\n",
    "TWTR = pd.read_csv('TWTR.csv')\n",
    "VRX= pd.read_csv('VRX.csv')\n",
    "XOM = pd.read_csv('XOM.csv')"
   ]
  },
  {
   "cell_type": "markdown",
   "metadata": {},
   "source": [
    "### Compiling \"Stocks\" DataFrame\n",
    "---"
   ]
  },
  {
   "cell_type": "code",
   "execution_count": 290,
   "metadata": {
    "collapsed": true
   },
   "outputs": [],
   "source": [
    "# Adding identifying column\n",
    "\n",
    "AAPL['Tickers'] = 'AAPL'\n",
    "AMD['Tickers'] = 'AMD'\n",
    "AMZN['Tickers'] = 'AMZN'\n",
    "BAC['Tickers'] = 'BAC'\n",
    "BB['Tickers'] = 'BB'\n",
    "CHK['Tickers'] = 'CHK'\n",
    "CMG['Tickers'] = 'CMG'\n",
    "DIS['Tickers'] = 'DIS'\n",
    "DRYS['Tickers'] = 'DRYS'\n",
    "F['Tickers'] = 'F'\n",
    "FB['Tickers'] = 'FB'\n",
    "GE['Tickers'] = 'GE'\n",
    "GILD['Tickers'] = 'GILD'\n",
    "GM['Tickers'] = 'GM'\n",
    "HLF['Tickers'] = 'HLF'\n",
    "IBM['Tickers'] = 'IBM'\n",
    "M['Tickers'] = 'M'\n",
    "MSFT['Tickers'] ='MSFT'\n",
    "MU['Tickers'] = 'MU'\n",
    "NFLX['Tickers'] = 'NFLX'\n",
    "NVDA['Tickers'] = 'NVDA'\n",
    "QCOM['Tickers'] = 'QCOM'\n",
    "SBUX['Tickers'] = 'SBUX'\n",
    "SHLD['Tickers'] = 'SHLD'\n",
    "TSLA['Tickers'] = 'TSLA'\n",
    "VRX['Tickers'] = 'VRX'\n",
    "TWTR['Tickers'] = 'TWTR'\n",
    "XOM['Tickers'] = 'XOM'"
   ]
  },
  {
   "cell_type": "code",
   "execution_count": 292,
   "metadata": {
    "collapsed": true
   },
   "outputs": [],
   "source": [
    "# Merging all 'Ticker' dataframe together \n",
    "\n",
    "stocks = pd.concat([AAPL, AMD, AMZN, BAC, BB, CHK, CMG, DIS, DRYS, F, FB, GE, GILD, GM, HLF, IBM, M, \n",
    "                    MSFT, MU, NFLX, NVDA, QCOM, SBUX, SHLD, TSLA, TWTR, VRX, XOM])"
   ]
  },
  {
   "cell_type": "code",
   "execution_count": 293,
   "metadata": {
    "collapsed": true
   },
   "outputs": [],
   "source": [
    "# Drop unneeded columna- only concerned with closing price\n",
    "\n",
    "stocks.drop(['Open','High','Low','Adj Close','Volume'],axis=1,inplace=True)"
   ]
  },
  {
   "cell_type": "markdown",
   "metadata": {},
   "source": [
    "## Saving Results - Exporting \"Stocks\" DataFrame as CSV \n",
    "---"
   ]
  },
  {
   "cell_type": "code",
   "execution_count": 23,
   "metadata": {
    "collapsed": true
   },
   "outputs": [],
   "source": [
    "# Exporting as csv\n",
    "\n",
    "stocks.to_csv('stocks.csv',index=False)"
   ]
  },
  {
   "cell_type": "markdown",
   "metadata": {},
   "source": [
    "## Onwards!\n",
    "\n",
    "---\n",
    "\n",
    "## Please proceed to Notebook 4 :) "
   ]
  }
 ],
 "metadata": {
  "kernelspec": {
   "display_name": "Python [default]",
   "language": "python",
   "name": "python3"
  },
  "language_info": {
   "codemirror_mode": {
    "name": "ipython",
    "version": 3
   },
   "file_extension": ".py",
   "mimetype": "text/x-python",
   "name": "python",
   "nbconvert_exporter": "python",
   "pygments_lexer": "ipython3",
   "version": "3.6.3"
  }
 },
 "nbformat": 4,
 "nbformat_minor": 2
}
