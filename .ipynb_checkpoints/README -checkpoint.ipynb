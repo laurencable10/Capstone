{
 "cells": [
  {
   "cell_type": "markdown",
   "metadata": {},
   "source": [
    "# Introduction"
   ]
  },
  {
   "cell_type": "markdown",
   "metadata": {},
   "source": [
    "As a stock investor, I have always wondered if analysts and industry experts are successful in picking stocks that outperform the market. From every media outlet imaginable we see and hear analyses and recommendations for capitalizing on emerging trends, but rarely receive feedback on their accuracy. When first presented with the prompt for my General Assembly Capstone I was essentially clueless regarding a real-world problem to simplify with machine learning algorithms, but the allure of producing a model that has the potential to result with money in my pocket led me to the following 3 questions:\n",
    "    \n",
    "1. Are stock analysts and industry experts successful in picking stocks that outperform the market?\n",
    "2. Are they better at accurately recommending buying or selling stocks?\n",
    "3. What characteristics of stock analyses are the most predictive in terms of actual marketplace performace?\n",
    "\n",
    "\n",
    "In these notebooks I will attempt to conduct Topic Modelling on stock analyses collected from Seeking Alpha.com, a popular crowd-sourced content service for financial markets featuring articles and research covering a broad range of stocks and investment strategies. \n",
    "\n",
    "\n",
    "Topic modeling is an unsupervised learning method that seeks to uncover abstract themes, or topics, based on the underlying documents and words in a corpus of text. While many topic modelling methods exist, I will be focusing on a standard technique called Latent Dirichlet Allocation (LDA), introducing several Natural Language Processing tools in the process.\n",
    "\n",
    "\n",
    "Introduction\n",
    "\n",
    "I had these questions in mind: Are stock analysts/industry experts really better at picking stocks that will outperform the market than we do? Are they better at giving ‘long’ or ‘short’ recommendations? Are institutions reports more reliable than the ones issued by individuals?"
   ]
  },
  {
   "cell_type": "markdown",
   "metadata": {},
   "source": [
    "### Outline\n",
    "#### 1. Webscraping Stock Ideas\n",
    "#### 2. Gathering Stock Prices\n",
    "#### 3. Exploratory Data Analysis\n",
    "#### 4. Natural Language Processing\n",
    "#### 5. Topic Modelling"
   ]
  },
  {
   "cell_type": "markdown",
   "metadata": {},
   "source": [
    "# 1. Webscraping Stock Ideas"
   ]
  },
  {
   "cell_type": "markdown",
   "metadata": {},
   "source": [
    "# 2. Gathering Stock Prices"
   ]
  },
  {
   "cell_type": "markdown",
   "metadata": {},
   "source": [
    "# 3. Exploratory Data Analysis"
   ]
  },
  {
   "cell_type": "markdown",
   "metadata": {},
   "source": [
    "# 4. Natural Language Processing "
   ]
  },
  {
   "cell_type": "markdown",
   "metadata": {},
   "source": [
    "# 5. Topic Modelling"
   ]
  }
 ],
 "metadata": {
  "kernelspec": {
   "display_name": "Python [default]",
   "language": "python",
   "name": "python3"
  },
  "language_info": {
   "codemirror_mode": {
    "name": "ipython",
    "version": 3
   },
   "file_extension": ".py",
   "mimetype": "text/x-python",
   "name": "python",
   "nbconvert_exporter": "python",
   "pygments_lexer": "ipython3",
   "version": "3.6.3"
  }
 },
 "nbformat": 4,
 "nbformat_minor": 2
}
